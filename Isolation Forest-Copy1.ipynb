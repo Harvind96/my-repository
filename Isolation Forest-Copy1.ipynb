{
 "cells": [
  {
   "cell_type": "markdown",
   "id": "a05a7bb7",
   "metadata": {},
   "source": [
    "# ONE CLASS SVM"
   ]
  },
  {
   "cell_type": "code",
   "execution_count": 1,
   "id": "75b5b63d",
   "metadata": {
    "scrolled": false
   },
   "outputs": [
    {
     "name": "stdout",
     "output_type": "stream",
     "text": [
      "Requirement already satisfied: plotly_express in c:\\users\\user\\anaconda3\\lib\\site-packages (0.4.1)\n",
      "Requirement already satisfied: scipy>=0.18 in c:\\users\\user\\anaconda3\\lib\\site-packages (from plotly_express) (1.6.2)\n",
      "Requirement already satisfied: plotly>=4.1.0 in c:\\users\\user\\anaconda3\\lib\\site-packages (from plotly_express) (5.1.0)\n",
      "Requirement already satisfied: statsmodels>=0.9.0 in c:\\users\\user\\anaconda3\\lib\\site-packages (from plotly_express) (0.12.2)\n",
      "Requirement already satisfied: pandas>=0.20.0 in c:\\users\\user\\anaconda3\\lib\\site-packages (from plotly_express) (1.2.4)\n",
      "Requirement already satisfied: numpy>=1.11 in c:\\users\\user\\anaconda3\\lib\\site-packages (from plotly_express) (1.20.1)\n",
      "Requirement already satisfied: patsy>=0.5 in c:\\users\\user\\anaconda3\\lib\\site-packages (from plotly_express) (0.5.1)\n",
      "Requirement already satisfied: pytz>=2017.3 in c:\\users\\user\\anaconda3\\lib\\site-packages (from pandas>=0.20.0->plotly_express) (2021.1)\n",
      "Requirement already satisfied: python-dateutil>=2.7.3 in c:\\users\\user\\anaconda3\\lib\\site-packages (from pandas>=0.20.0->plotly_express) (2.8.1)\n",
      "Requirement already satisfied: six in c:\\users\\user\\anaconda3\\lib\\site-packages (from patsy>=0.5->plotly_express) (1.15.0)\n",
      "Requirement already satisfied: tenacity>=6.2.0 in c:\\users\\user\\anaconda3\\lib\\site-packages (from plotly>=4.1.0->plotly_express) (8.0.1)\n"
     ]
    }
   ],
   "source": [
    "!pip install plotly_express"
   ]
  },
  {
   "cell_type": "code",
   "execution_count": 2,
   "id": "e650de27",
   "metadata": {},
   "outputs": [],
   "source": [
    "# Installing packages\n",
    "import pandas as pd\n",
    "import numpy as np\n",
    "import seaborn as sns #visualisation\n",
    "import matplotlib.pyplot as plt #visualisation\n",
    "%matplotlib inline \n",
    "sns.set(color_codes=True)\n",
    "from scipy import stats\n",
    "from scipy.stats.mstats import describe\n",
    "from sklearn.ensemble import IsolationForest\n",
    "from sklearn.model_selection import train_test_split\n",
    "from sklearn.linear_model import LinearRegression\n",
    "from sklearn.neighbors import LocalOutlierFactor\n",
    "from sklearn.metrics import mean_absolute_error\n",
    "from sklearn.preprocessing import StandardScaler\n",
    "import plotly_express as px\n",
    "from sklearn.svm import OneClassSVM\n",
    "from numpy import where"
   ]
  },
  {
   "cell_type": "code",
   "execution_count": 3,
   "id": "b3031e9f",
   "metadata": {},
   "outputs": [],
   "source": [
    "#Loading dataset\n",
    "fgheader = pd.read_excel('C:\\\\Users\\\\User\\\\OneDrive\\\\Documents\\\\Geeswork\\\\fuelgas\\\\Latestpid\\\\PI Data (Offline) - Fuel Gas System.xlsx',sheet_name = 'FG Header', skiprows = 9)"
   ]
  },
  {
   "cell_type": "code",
   "execution_count": 4,
   "id": "7d97bc91",
   "metadata": {},
   "outputs": [],
   "source": [
    "#drop the column\n",
    "fgheader.drop(fgheader.columns[[0,1,2,3,5,6,7,8,9,10,11,12,13]], axis = 1, inplace = True)"
   ]
  },
  {
   "cell_type": "code",
   "execution_count": 5,
   "id": "bd2e0f4e",
   "metadata": {},
   "outputs": [
    {
     "data": {
      "text/plain": [
       "Index(['FUEL GAS DIST HEADER TEMP IND'], dtype='object')"
      ]
     },
     "execution_count": 5,
     "metadata": {},
     "output_type": "execute_result"
    }
   ],
   "source": [
    "#rename your column\n",
    "fgheader.rename(columns={'DEGC': 'FUEL GAS DIST HEADER TEMP IND'}, inplace=True)\n",
    "fgheader.columns"
   ]
  },
  {
   "cell_type": "code",
   "execution_count": 6,
   "id": "abc67fcb",
   "metadata": {},
   "outputs": [],
   "source": [
    "fgheader[\"FUEL GAS DIST HEADER TEMP IND\"] = pd.to_numeric(fgheader[\"FUEL GAS DIST HEADER TEMP IND\"], errors='coerce')"
   ]
  },
  {
   "cell_type": "code",
   "execution_count": 9,
   "id": "ff53ab82",
   "metadata": {},
   "outputs": [],
   "source": [
    "fgheader['FUEL GAS DIST HEADER TEMP IND'] = fgheader['FUEL GAS DIST HEADER TEMP IND'].replace(np.nan, 0)"
   ]
  },
  {
   "cell_type": "code",
   "execution_count": 7,
   "id": "4bd2ca19",
   "metadata": {},
   "outputs": [],
   "source": [
    "fgheader['FUEL GAS DIST HEADER TEMP IND'] = round(fgheader['FUEL GAS DIST HEADER TEMP IND'],2)"
   ]
  },
  {
   "cell_type": "code",
   "execution_count": null,
   "id": "2d7ec671",
   "metadata": {},
   "outputs": [],
   "source": [
    "model = OneClassSVM(kernel = 'rbf', gamma = 0.001, nu = 0.17).fit(fgheader)"
   ]
  },
  {
   "cell_type": "code",
   "execution_count": null,
   "id": "623ddf16",
   "metadata": {},
   "outputs": [],
   "source": [
    "# prediction\n",
    "y_pred = model.predict(fgheader)"
   ]
  },
  {
   "cell_type": "code",
   "execution_count": null,
   "id": "cbcbb7f9",
   "metadata": {},
   "outputs": [],
   "source": [
    "# filter outlier index\n",
    "outlier_index = where(y_pred == -1) \n",
    "# filter outlier values\n",
    "outlier_values = fgheader.iloc[outlier_index]\n",
    "outlier_values"
   ]
  },
  {
   "cell_type": "code",
   "execution_count": null,
   "id": "773a4952",
   "metadata": {},
   "outputs": [],
   "source": [
    "# visualize outputs\n",
    "plt.scatter( fgheader['FUEL GAS DIST HEADER TEMP IND'])\n",
    "plt.scatter(outlier_values['FUEL GAS DIST HEADER TEMP IND'], c = \"r\")"
   ]
  }
 ],
 "metadata": {
  "kernelspec": {
   "display_name": "Python 3",
   "language": "python",
   "name": "python3"
  },
  "language_info": {
   "codemirror_mode": {
    "name": "ipython",
    "version": 3
   },
   "file_extension": ".py",
   "mimetype": "text/x-python",
   "name": "python",
   "nbconvert_exporter": "python",
   "pygments_lexer": "ipython3",
   "version": "3.8.8"
  }
 },
 "nbformat": 4,
 "nbformat_minor": 5
}
